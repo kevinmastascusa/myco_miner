{
  "nbformat": 4,
  "nbformat_minor": 0,
  "metadata": {
    "colab": {
      "provenance": [],
      "authorship_tag": "ABX9TyMAxXol1DxCdI6a6X4Qi4Qd",
      "include_colab_link": true
    },
    "kernelspec": {
      "name": "python3",
      "display_name": "Python 3"
    },
    "language_info": {
      "name": "python"
    }
  },
  "cells": [
    {
      "cell_type": "markdown",
      "metadata": {
        "id": "view-in-github",
        "colab_type": "text"
      },
      "source": [
        "<a href=\"https://colab.research.google.com/github/kevinmastascusa/myco_miner/blob/main/wikipedia_species_info_extractor.ipynb\" target=\"_parent\"><img src=\"https://colab.research.google.com/assets/colab-badge.svg\" alt=\"Open In Colab\"/></a>"
      ]
    },
    {
      "cell_type": "markdown",
      "source": [
        "# Wikipedia Species Information Extractor\n",
        "    Created by: Kevin Mastascusa\n",
        "    Description: A tool to scrape information and images from Wikipedia pages.\n",
        "    Date: 2024-09-06"
      ],
      "metadata": {
        "id": "Dv-i9stb0JVX"
      }
    },
    {
      "cell_type": "code",
      "execution_count": 2,
      "metadata": {
        "colab": {
          "base_uri": "https://localhost:8080/"
        },
        "id": "TMm5BWTSyF6X",
        "outputId": "56810877-8403-4149-e421-ff0bea436bb5"
      },
      "outputs": [
        {
          "output_type": "stream",
          "name": "stdout",
          "text": [
            "Title: Amanita muscaria\n",
            "First Paragraph: Amanita muscaria, commonly known as the fly agaric or fly amanita,[5] is a basidiomycete of the genus Amanita. It is a large white-gilled, white-spotted, and usually red mushroom.\n"
          ]
        }
      ],
      "source": [
        "import requests\n",
        "from bs4 import BeautifulSoup\n",
        "\n",
        "# Specify the Wikipedia URL\n",
        "url = \"https://en.wikipedia.org/wiki/Amanita_muscaria\"\n",
        "\n",
        "# Fetch the HTML content\n",
        "response = requests.get(url)\n",
        "response.raise_for_status()\n",
        "\n",
        "# Parse the HTML\n",
        "soup = BeautifulSoup(response.content, 'html.parser')\n",
        "\n",
        "# Extract the title\n",
        "title = soup.find('h1', id='firstHeading').text.strip()\n",
        "\n",
        "# Find all paragraphs within the main content area\n",
        "paragraphs = soup.find('div', id='bodyContent').find_all('p')\n",
        "\n",
        "# Get the first paragraph that contains text\n",
        "for p in paragraphs:\n",
        "    first_paragraph = p.text.strip()\n",
        "    if first_paragraph:  # Check if the paragraph has any text content\n",
        "        break\n",
        "\n",
        "print(f\"Title: {title}\")\n",
        "print(f\"First Paragraph: {first_paragraph}\")"
      ]
    },
    {
      "cell_type": "code",
      "source": [
        "!pip install requests beautifulsoup4"
      ],
      "metadata": {
        "colab": {
          "base_uri": "https://localhost:8080/"
        },
        "id": "xKX6zAfoy4k2",
        "outputId": "b38b398c-cbef-41be-ab7d-07cef4f909ca"
      },
      "execution_count": 3,
      "outputs": [
        {
          "output_type": "stream",
          "name": "stdout",
          "text": [
            "Requirement already satisfied: requests in /usr/local/lib/python3.10/dist-packages (2.32.3)\n",
            "Requirement already satisfied: beautifulsoup4 in /usr/local/lib/python3.10/dist-packages (4.12.3)\n",
            "Requirement already satisfied: charset-normalizer<4,>=2 in /usr/local/lib/python3.10/dist-packages (from requests) (3.3.2)\n",
            "Requirement already satisfied: idna<4,>=2.5 in /usr/local/lib/python3.10/dist-packages (from requests) (3.8)\n",
            "Requirement already satisfied: urllib3<3,>=1.21.1 in /usr/local/lib/python3.10/dist-packages (from requests) (2.0.7)\n",
            "Requirement already satisfied: certifi>=2017.4.17 in /usr/local/lib/python3.10/dist-packages (from requests) (2024.8.30)\n",
            "Requirement already satisfied: soupsieve>1.2 in /usr/local/lib/python3.10/dist-packages (from beautifulsoup4) (2.6)\n"
          ]
        }
      ]
    },
    {
      "cell_type": "code",
      "source": [
        "import requests\n",
        "from bs4 import BeautifulSoup\n",
        "from IPython.display import Image, display, HTML\n",
        "\n",
        "def get_wikipedia_info(species_name):\n",
        "  \"\"\"Fetches information and image from a Wikipedia page.\"\"\"\n",
        "\n",
        "  url = f\"https://en.wikipedia.org/wiki/{species_name.replace(' ', '_')}\"\n",
        "\n",
        "  response = requests.get(url)\n",
        "  response.raise_for_status()\n",
        "\n",
        "  soup = BeautifulSoup(response.content, 'html.parser')\n",
        "\n",
        "  # Extract title\n",
        "  title = soup.find('h1', id='firstHeading').text.strip()\n",
        "\n",
        "  # Extract first paragraph\n",
        "  paragraphs = soup.find('div', id='bodyContent').find_all('p')\n",
        "  for p in paragraphs:\n",
        "      first_paragraph = p.text.strip()\n",
        "      if first_paragraph:\n",
        "          break\n",
        "\n",
        "  # Extract image (assuming the first image in the infobox is relevant)\n",
        "  infobox = soup.find('table', class_='infobox')\n",
        "  if infobox:\n",
        "      image_tag = infobox.find('img')\n",
        "      if image_tag:\n",
        "          image_url = \"https:\" + image_tag['src']  # Construct full URL\n",
        "      else:\n",
        "          image_url = None\n",
        "  else:\n",
        "      image_url = None\n",
        "\n",
        "  return title, first_paragraph, image_url\n",
        "\n",
        "# Get user input for species name\n",
        "species_name = input(\"Enter the species name: \")\n",
        "\n",
        "# Fetch information\n",
        "title, first_paragraph, image_url = get_wikipedia_info(species_name)\n",
        "\n",
        "# Display results\n",
        "print(f\"\\nTitle: {title}\")\n",
        "print(f\"\\nFirst Paragraph: {first_paragraph}\\n\")\n",
        "\n",
        "if image_url:\n",
        "    display(Image(url=image_url))\n",
        "else:\n",
        "    print(\"No image found.\")"
      ],
      "metadata": {
        "colab": {
          "base_uri": "https://localhost:8080/",
          "height": 322
        },
        "id": "HY3mGKKqzGiu",
        "outputId": "dbfd048e-e7a3-4948-c92e-017bd12dfcf0"
      },
      "execution_count": 4,
      "outputs": [
        {
          "output_type": "stream",
          "name": "stdout",
          "text": [
            "Enter the species name: amanita_muscaria\n",
            "\n",
            "Title: Amanita muscaria\n",
            "\n",
            "First Paragraph: Amanita muscaria, commonly known as the fly agaric or fly amanita,[5] is a basidiomycete of the genus Amanita. It is a large white-gilled, white-spotted, and usually red mushroom.\n",
            "\n"
          ]
        },
        {
          "output_type": "display_data",
          "data": {
            "text/html": [
              "<img src=\"https://upload.wikimedia.org/wikipedia/commons/thumb/3/32/Amanita_muscaria_3_vliegenzwammen_op_rij.jpg/220px-Amanita_muscaria_3_vliegenzwammen_op_rij.jpg\"/>"
            ],
            "text/plain": [
              "<IPython.core.display.Image object>"
            ]
          },
          "metadata": {}
        }
      ]
    },
    {
      "cell_type": "code",
      "source": [
        "\n",
        "\n",
        "# Find all other paragraphs\n",
        "other_paragraphs = soup.find('div', id='bodyContent').find_all('p')\n",
        "\n",
        "# Extract the text from all other paragraphs\n",
        "other_text = \"\"\n",
        "for p in other_paragraphs:\n",
        "    if p.text.strip() != first_paragraph:\n",
        "        other_text += p.text.strip() + \"\\n\"\n",
        "\n",
        "# Save the other text to a file\n",
        "with open(\"other_text.txt\", \"w\") as f:\n",
        "    f.write(other_text)\n"
      ],
      "metadata": {
        "id": "v8_SDIx63zBs"
      },
      "execution_count": 9,
      "outputs": []
    },
    {
      "cell_type": "code",
      "source": [
        "# prompt: use the other text and parse html so its readable\n",
        "\n",
        "from bs4 import BeautifulSoup\n",
        "\n",
        "# Read the content of the file\n",
        "with open(\"other_text.txt\", \"r\") as f:\n",
        "    other_text = f.read()\n",
        "\n",
        "# Parse the text as HTML\n",
        "soup = BeautifulSoup(other_text, 'html.parser')\n",
        "\n",
        "# Extract the text from the parsed HTML\n",
        "readable_text = soup.get_text()\n",
        "\n",
        "# Print the readable text\n",
        "print(readable_text)\n"
      ],
      "metadata": {
        "id": "fwYji37R4lv7",
        "outputId": "88601276-5a42-46a2-d8b0-687a7903b026",
        "colab": {
          "base_uri": "https://localhost:8080/"
        }
      },
      "execution_count": 11,
      "outputs": [
        {
          "output_type": "stream",
          "name": "stdout",
          "text": [
            "\n",
            "Despite its easily distinguishable features, A. muscaria is a fungus with several known variations, or subspecies. These subspecies are slightly different, some having yellow or white caps, but are all usually called fly agarics, most often recognizable by their notable white spots. Recent DNA fungi research, however, has shown that some mushrooms called 'fly agaric' are in fact unique species, such as A. persicina (the peach-colored fly agaric).\n",
            "Native throughout the temperate and boreal regions of the Northern Hemisphere, A. muscaria has been unintentionally introduced to many countries in the Southern Hemisphere, generally as a symbiont with pine and birch plantations, and is now a true cosmopolitan species. It associates with various deciduous and coniferous trees.\n",
            "Although poisonous, death due to poisoning from A. muscaria ingestion is quite rare. Parboiling twice with water weakens its toxicity and breaks down the mushroom's psychoactive substances; it is eaten in parts of Europe, Asia, and North America. All A. muscaria varieties, but in particular A. muscaria var. muscaria, are noted for their hallucinogenic properties, with the main psychoactive constituents being muscimol and its neurotoxic precursor ibotenic acid. A local variety of the mushroom was used as an intoxicant and entheogen by the indigenous peoples of Siberia.[6][7]\n",
            "Arguably the most iconic toadstool species, the fly agaric is one of the most recognizable and widely encountered in popular culture, including in video games—for example, the frequent use of a recognizable A. muscaria in the Mario franchise (e.g. its Super Mushroom power-up)—and television—for example, the houses in The Smurfs franchise.[8] There have been cases of children admitted to hospitals after consuming this poisonous mushroom; the children may have been attracted to it because of its pop-culture associations.[9]\n",
            "The name of the mushroom in many European languages is thought to derive from its use as an insecticide when sprinkled in milk. This practice has been recorded from Germanic-  and Slavic-speaking parts of Europe, as well as the Vosges region and pockets elsewhere in France, and Romania.[10] Albertus Magnus was the first to record it in his work De vegetabilibus some time before 1256,[11] commenting \"vocatur fungus muscarum, eo quod in lacte pulverizatus interficit muscas\" (\"it is called the fly mushroom because it is powdered in milk to kill flies\").[12]\n",
            "The 16th-century Flemish botanist Carolus Clusius traced the practice of sprinkling it into milk to Frankfurt in Germany,[13] while Carl Linnaeus, the \"father of taxonomy\", reported it from Småland in southern Sweden, where he had lived as a child.[14] He described it in volume two of his Species Plantarum in 1753, giving it the name Agaricus muscarius,[15] the specific epithet deriving from Latin musca meaning \"fly\".[16] It gained its current name in 1783, when placed in the genus Amanita by Jean-Baptiste Lamarck, a name sanctioned in 1821 by the \"father of mycology\", Swedish naturalist Elias Magnus Fries. The starting date for all the mycota had been set by general agreement as January 1, 1821, the date of Fries's work, and so the full name was then Amanita muscaria (L.:Fr.) Hook. The 1987 edition of the International Code of Botanical Nomenclature changed the rules on the starting date and primary work for names of fungi, and names can now be considered valid as far back as May 1, 1753, the date of publication of Linnaeus's work.[17] Hence, Linnaeus and Lamarck are now taken as the namers of Amanita muscaria (L.) Lam..\n",
            "The English mycologist John Ramsbottom reported that Amanita muscaria was used for getting rid of bugs in England and Sweden, and bug agaric was an old alternative name for the species.[12] French mycologist Pierre Bulliard reported having tried without success to replicate its fly-killing properties in his work Histoire des plantes vénéneuses et suspectes de la France (1784), and proposed a new binomial name Agaricus pseudo-aurantiacus because of this.[18] One compound isolated from the fungus is 1,3-diolein (1,3-di(cis-9-octadecenoyl)glycerol), which attracts insects.[19]\n",
            "It has been hypothesised that the flies intentionally seek out the fly agaric for its intoxicating properties.[20]\n",
            "An alternative derivation proposes that the term fly- refers not to insects as such but rather the delirium resulting from consumption of the fungus. This is based on the medieval belief that flies could enter a person's head and cause mental illness.[21] Several regional names appear to be linked with this connotation, meaning the \"mad\" or \"fool's\" version of the highly regarded edible mushroom Amanita caesarea. Hence there is oriol foll \"mad oriol\" in Catalan, mujolo folo from Toulouse, concourlo fouolo from the Aveyron department in Southern France, ovolo matto from Trentino in Italy. A local dialect name in Fribourg in Switzerland is tsapi de diablhou, which translates as \"Devil's hat\".[22]\n",
            "Amanita muscaria is the type species of the genus. By extension, it is also the type species of Amanita subgenus Amanita, as well as section Amanita within this subgenus. Amanita subgenus Amanita includes all Amanita with inamyloid spores. Amanita section Amanita includes the species with patchy universal veil remnants, including a volva that is reduced to a series of concentric rings, and the veil remnants on the cap to a series of patches or warts. Most species in this group also have a bulbous base.[23][24] Amanita section Amanita consists of A. muscaria and its close relatives, including A. pantherina (the panther cap), A. gemmata, A. farinosa, and A. xanthocephala.[25] Modern fungal taxonomists have classified Amanita muscaria and its allies this way based on gross morphology and spore inamyloidy. Two recent molecular phylogenetic studies have confirmed this classification as natural.[26][27]\n",
            "A large, conspicuous mushroom, Amanita muscaria is generally common and numerous where it grows, and is often found in groups with basidiocarps in all stages of development.\n",
            "Fly agaric fruiting bodies emerge from the soil looking like white eggs. After emerging from the ground, the cap is covered with numerous small white to yellow pyramid-shaped warts. These are remnants of the universal veil, a membrane that encloses the entire mushroom when it is still very young. Dissecting the mushroom at this stage reveals a characteristic yellowish layer of skin under the veil, which helps identification. As the fungus grows, the red colour appears through the broken veil and the warts become less prominent; they do not change in size, but are reduced relative to the expanding skin area. The cap changes from globose to hemispherical, and finally to plate-like and flat in mature specimens.[28] Fully grown, the bright red cap is usually around 8–20 centimetres (3–8 inches) in diameter, although larger specimens have been found. The red colour may fade after rain and in older mushrooms.\n",
            "The free gills are white, as is the spore print. The oval spores measure 9–13 by 6.5–9 μm; they do not turn blue with the application of iodine.[29] The stipe is white, 5–20 cm (2–8 in) high[30] by 1–2 cm (1⁄2–1 in) wide, and has the slightly brittle, fibrous texture typical of many large mushrooms. At the base is a bulb that bears universal veil remnants in the form of two to four distinct rings or ruffs. Between the basal universal veil remnants and gills are remnants of the partial veil (which covers the gills during development) in the form of a white ring. It can be quite wide and flaccid with age. There is generally no associated smell other than a mild earthiness.[31][32]\n",
            "Although very distinctive in appearance, the fly agaric has been mistaken for other yellow to red mushroom species in the Americas, such as Armillaria cf. mellea and the edible A. basii—a Mexican species similar to A. caesarea of Europe. Poison control centres in the U.S. and Canada have become aware that amarill (Spanish for 'yellow') is a common name for the A. caesarea-like species in Mexico.[4] A. caesarea is distinguished by its entirely orange to red cap, which lacks the numerous white warty spots of the fly agaric (though these sometimes wash away during heavy rain).[33] Furthermore, the stem, gills and ring of A. caesarea are bright yellow, not white.[34] The volva is a distinct white bag, not broken into scales.[35] In Australia, the introduced fly agaric may be confused with the native vermilion grisette (Amanita xanthocephala), which grows in association with eucalypts. The latter species generally lacks the white warts of A. muscaria and bears no ring.[36] Additionally, immature button forms resemble puffballs.[37]\n",
            "Amanita muscaria varies considerably in its morphology, and many authorities recognize several subspecies or varieties within the species. In The Agaricales in Modern Taxonomy, German mycologist Rolf Singer listed three subspecies, though without description: A. muscaria ssp. muscaria, A. muscaria ssp. americana, and A. muscaria ssp. flavivolvata.[23]\n",
            "However, a 2006 molecular phylogenetic study of different regional populations of A. muscaria by mycologist József Geml and colleagues found three distinct clades within this species representing, roughly, Eurasian, Eurasian \"subalpine\", and North American populations. Specimens belonging to all three clades have been found in Alaska; this has led to the hypothesis that this was the centre of diversification for this species. The study also looked at four named varieties of the species: var. alba, var. flavivolvata, var. formosa (including var. guessowii), and var. regalis from both areas. All four varieties were found within both the Eurasian and North American clades, evidence that these morphological forms are polymorphisms rather than distinct subspecies or varieties.[38] Further molecular study by Geml and colleagues published in 2008 show that these three genetic groups, plus a fourth associated with oak–hickory–pine forest in the southeastern United States and two more on Santa Cruz Island in California, are delineated from each other enough genetically to be considered separate species. Thus A. muscaria as it stands currently is, evidently, a species complex.[39] The complex also includes at least three other closely related taxa that are currently regarded as species:[1] A. breckonii is a buff-capped mushroom associated with conifers from the Pacific Northwest,[40] and the brown-capped A. gioiosa and A. heterochroma from the Mediterranean Basin and from Sardinia respectively. Both of these last two are found with Eucalyptus and Cistus trees, and it is unclear whether they are native or introduced from Australia.[41][42]\n",
            "Amanitaceae.org lists four varieties as of May 2019[update], but says that they will be segregated into their own taxa \"in the near future\". They are:[2]\n",
            "Known to be toxic but used by shamans in northern cultures. Associated predominantly with Birch and diverse conifers in forest.\n",
            "A. muscaria is a cosmopolitan mushroom, native to conifer and deciduous woodlands throughout the temperate and boreal regions of the Northern Hemisphere,[38] including higher elevations of warmer latitudes in regions such as Hindu Kush, the Mediterranean and also Central America. A recent molecular study proposes that it had an ancestral origin in the Siberian–Beringian region in the Tertiary period, before radiating outwards across Asia, Europe and North America.[38] The season for fruiting varies in different climates: fruiting occurs in summer and autumn across most of North America, but later in autumn and early winter on the Pacific coast. This species is often found in similar locations to Boletus edulis, and may appear in fairy rings.[44] Conveyed with pine seedlings, it has been widely transported into the southern hemisphere, including Australia,[45] New Zealand,[46] South Africa[47] and South America, where it can be found in the Brazilian states of Paraná,[38] São Paulo, Minas Gerais, Rio Grande do Sul.[48]\n",
            "Ectomycorrhizal, A. muscaria forms symbiotic relationships with many trees, including pine, oak, spruce, fir, birch, and cedar. Commonly seen under introduced trees,[49] A. muscaria is the fungal equivalent of a weed in New Zealand, Tasmania and Victoria, forming new associations with southern beech (Nothofagus).[50] The species is also invading a rainforest in Australia, where it may be displacing the native species.[49] It appears to be spreading northwards, with recent reports placing it near Port Macquarie on the New South Wales north coast.[51] It was recorded under silver birch (Betula pendula) in Manjimup, Western Australia in 2010.[52] Although it has apparently not spread to eucalypts in Australia, it has been recorded associating with them in Portugal. Commonly found throughout the great Southern region of western Australia, it is regularly found growing on Pinus radiata.[53]\n",
            "A. muscaria poisoning has occurred in young children and in people who ingested the mushrooms for a hallucinogenic experience,[21][54][55] or who confused it with an edible species.\n",
            "A. muscaria contains several biologically active agents, at least one of which, muscimol, is known to be psychoactive. Ibotenic acid, a neurotoxin, serves as a prodrug to muscimol, with a small amount likely converting to muscimol after ingestion. An active dose in adults is approximately 6 mg muscimol or 30 to 60 mg ibotenic acid;[56][57] this is typically about the amount found in one cap of Amanita muscaria.[58] The amount and ratio of chemical compounds per mushroom varies widely from region to region and season to season, which can further confuse the issue. Spring and summer mushrooms have been reported to contain up to 10 times more ibotenic acid and muscimol than autumn fruitings.[54]\n",
            "Deaths from A. muscaria have been reported in historical journal articles and newspaper reports,[59][60][61] but with modern medical treatment, fatal poisoning from ingesting this mushroom is extremely rare.[62] Many books list A. muscaria as deadly,[63] but according to David Arora, this is an error that implies the mushroom is far more toxic than it is.[64] Furthermore, The North American Mycological Association has stated that there were \"no reliably documented cases of death from toxins in these mushrooms in the past 100 years\".[65]\n",
            "The active constituents of this species are water-soluble, and boiling and then discarding the cooking water at least partly detoxifies A. muscaria.[66] Drying may increase potency, as the process facilitates the conversion of ibotenic acid to the more potent muscimol.[67] According to some sources, once detoxified, the mushroom becomes edible.[68][69] Patrick Harding describes the Sami custom of processing the fly agaric through reindeer.[70]\n",
            "Muscarine, discovered in 1869,[71] was long thought to be the active hallucinogenic agent in A. muscaria. Muscarine binds with muscarinic acetylcholine receptors leading to the excitation of neurons bearing these receptors. The levels of muscarine in Amanita muscaria are minute when compared with other poisonous fungi[72] such as Inosperma erubescens, the small white Clitocybe species C. dealbata and C. rivulosa. The level of muscarine in A. muscaria is too low to play a role in the symptoms of poisoning.[73]\n",
            "The major toxins involved in A. muscaria poisoning are muscimol (3-hydroxy-5-aminomethyl-1-isoxazole, an unsaturated cyclic hydroxamic acid) and the related amino acid ibotenic acid. Muscimol is the product of the decarboxylation (usually by drying) of ibotenic acid. Muscimol and ibotenic acid were discovered in the mid-20th century.[74][75] Researchers in England,[76] Japan,[77] and Switzerland[75] showed that the effects produced were due mainly to ibotenic acid and muscimol, not muscarine.[19][74] These toxins are not distributed uniformly in the mushroom. Most are detected in the cap of the fruit, a moderate amount in the base, with the smallest amount in the stalk.[78][79] Quite rapidly, between 20 and 90 minutes after ingestion, a substantial fraction of ibotenic acid is excreted unmetabolised in the urine of the consumer. Almost no muscimol is excreted when pure ibotenic acid is eaten, but muscimol is detectable in the urine after eating A. muscaria, which contains both ibotenic acid and muscimol.[57]\n",
            "Ibotenic acid and muscimol are structurally related to each other and to two major neurotransmitters of the central nervous system: glutamic acid and GABA respectively. Ibotenic acid and muscimol act like these neurotransmitters, muscimol being a potent GABAA agonist, while ibotenic acid is an agonist of NMDA glutamate receptors and certain metabotropic glutamate receptors[80] which are involved in the control of neuronal activity. It is these interactions which are thought to cause the psychoactive effects found in intoxication.[21][58]\n",
            "Muscazone is another compound that has more recently been isolated from European specimens of the fly agaric. It is a product of the breakdown of ibotenic acid by ultra-violet radiation.[81] Muscazone is of minor pharmacological activity compared with the other agents.[21] Amanita muscaria and related species are known as effective bioaccumulators of vanadium; some species concentrate vanadium to levels of up to 400 times those typically found in plants.[82] Vanadium is present in fruit-bodies as an organometallic compound called amavadine.[82] The biological importance of the accumulation process is unknown.[83]\n",
            "Fly agarics are best known for the unpredictability of their effects. Depending on habitat and the amount ingested per body weight, effects can range from mild nausea and twitching to drowsiness, cholinergic crisis-like effects (low blood pressure, sweating and salivation), auditory and visual distortions, mood changes, euphoria, relaxation, ataxia, and loss of equilibrium (like with tetanus.)[54][55][58][60]\n",
            "In cases of serious poisoning the mushroom causes delirium, somewhat similar in effect to anticholinergic poisoning (such as that caused by Datura stramonium), characterised by bouts of marked agitation with confusion, hallucinations, and irritability followed by periods of central nervous system depression. Seizures and coma may also occur in severe poisonings.[55][58] Symptoms typically appear after around 30 to 90 minutes and peak within three hours, but certain effects can last for several days.[33][57] In the majority of cases recovery is complete within 12 to 24 hours.[66] The effect is highly variable between individuals, with similar doses potentially causing quite different reactions.[54][57][84] Some people suffering intoxication have exhibited headaches up to ten hours afterwards.[57] Retrograde amnesia and somnolence can result following recovery.[58]\n",
            "Medical attention should be sought in cases of suspected poisoning. If the delay between ingestion and treatment is less than four hours, activated charcoal is given. Gastric lavage can be considered if the patient presents within one hour of ingestion.[85] Inducing vomiting with syrup of ipecac is no longer recommended in any poisoning situation.[86]\n",
            "There is no antidote, and supportive care is the mainstay of further treatment for intoxication. Though sometimes referred to as a deliriant and while muscarine was first isolated from A. muscaria and as such is its namesake, muscimol does not have action, either as an agonist or antagonist, at the muscarinic acetylcholine receptor site, and therefore atropine or physostigmine as an antidote is not recommended.[87] If a patient is delirious or agitated, this can usually be treated by reassurance and, if necessary, physical restraints. A benzodiazepine such as diazepam or lorazepam can be used to control combativeness, agitation, muscular overactivity, and seizures.[54] Only small doses should be used, as they may worsen the respiratory depressant effects of muscimol.[88] Recurrent vomiting is rare, but if present may lead to fluid and electrolyte imbalances; intravenous rehydration or electrolyte replacement may be required.[58][89] Serious cases may develop loss of consciousness or coma, and may need intubation and artificial ventilation.[55][90] Hemodialysis can remove the toxins, although this intervention is generally considered unnecessary.[66] With modern medical treatment the prognosis is typically good following supportive treatment.[62][66]\n",
            "The wide range of psychoactive effects have been variously described as depressant, sedative-hypnotic, psychedelic, dissociative, or deliriant; paradoxical effects such as stimulation may occur however. Perceptual phenomena such as synesthesia, macropsia, and micropsia may occur; the latter two effects may occur either simultaneously or alternatingly, as part of Alice in Wonderland syndrome, collectively known as dysmetropsia, along with related distortions pelopsia and teleopsia. Some users report lucid dreaming under the influence of its hypnotic effects. Unlike Psilocybe cubensis, A. muscaria cannot be commercially cultivated, due to its mycorrhizal relationship with the roots of pine trees. However, following the outlawing of psilocybin mushrooms in the United Kingdom in 2006, the sale of the still legal A. muscaria began increasing.[91]\n",
            "Marija Gimbutas reported to R. Gordon Wasson that in remote areas of Lithuania, A. muscaria has been consumed at wedding feasts, in which mushrooms were mixed with vodka. She also reported that the Lithuanians used to export A. muscaria to the Sami in the Far North for use in shamanic rituals. The Lithuanian festivities are the only report that Wasson received of ingestion of fly agaric for religious use in Eastern Europe.[92]\n",
            "A. muscaria was widely used as an entheogen by many of the indigenous peoples of Siberia. Its use was known among almost all of the Uralic-speaking peoples of western Siberia and the Paleosiberian-speaking peoples of the Russian Far East. There are only isolated reports of A. muscaria use among the Tungusic and Turkic peoples of central Siberia and it is believed that on the whole entheogenic use of A. muscaria was not practised by these peoples.[6] In western Siberia, the use of A. muscaria was restricted to shamans, who used it as an alternative method of achieving a trance state. (Normally, Siberian shamans achieve trance by prolonged drumming and dancing.) In eastern Siberia, A. muscaria was used by both shamans and laypeople alike, and was used recreationally as well as religiously.[6] In eastern Siberia, the shaman would take the mushrooms, and others would drink his urine.[93] This urine, still containing psychoactive elements, may be more potent than the A. muscaria mushrooms with fewer negative effects such as sweating and twitching, suggesting that the initial user may act as a screening filter for other components in the mushroom.[94]\n",
            "The Koryak of eastern Siberia have a story about the fly agaric (wapaq) which enabled Big Raven to carry a whale to its home. In the story, the deity Vahiyinin (\"Existence\") spat onto earth, and his spittle became the wapaq, and his saliva becomes the warts. After experiencing the power of the wapaq, Raven was so exhilarated that he told it to grow forever on earth so his children, the people, could learn from it.[95] Among the Koryaks, one report said that the poor would consume the urine of the wealthy, who could afford to buy the mushrooms.[96] It was reported that the local reindeer would often follow an individual intoxicated by the muscimol mushroom, and if said individual were to urinate in snow the reindeer would become similarly intoxicated and the Koryak people's would use the drunken state of the reindeer to more easily rope and hunt them.[97]\n",
            "As a result of a lack of regulation, the use of Amanita muscaria as a popular legal alternative to hallucinogens has grown exponentially in recent years. In 2024, Google searches for Amanita muscaria rose nearly 200% from the previous year, a trend that an article published in the American Journal of Preventative Medicine correlated with the sudden commercialization of Amanita muscaria products on the internet.[98]\n",
            "While Amanita mushrooms are unscheduled in the United States, the sale of Amanita products exists in a legal gray area as they are listed as a poison by the FDA[99] and are not approved to be used in dietary supplements, with some drawing comparisons to the controversial legal status of hemp-derived cannabinoids.[98][100]\n",
            "A recent outbreak of poisonings and at least one death associated with products containing Amanita muscaria extracts has sparked debates regarding the regulatory status of Amanita mushrooms and their psychoactive constituents.[98][101] These products often use misleading advertising, such as erroneous comparisons to Psilocybin mushrooms or simply not disclosing the inclusion of Amanita mushrooms on the packaging.[101][102]\n",
            "The Finnish historian T. I. Itkonen mentions that A. muscaria was once used among the Sámi peoples. Sorcerers in Inari would consume fly agarics with seven spots.[103] In 1979, Said Gholam Mochtar and Hartmut Geerken published an article in which they claimed to have discovered a tradition of medicinal and recreational use of this mushroom among a Parachi-speaking group in Afghanistan.[104] There are also unconfirmed reports of religious use of A. muscaria among two Subarctic Native American tribes. Ojibwa ethnobotanist Keewaydinoquay Peschel reported its use among her people, where it was known as miskwedo (an abbreviation of the name oshtimisk wajashkwedo (= \"red-top mushroom\").[105][106] This information was enthusiastically received by Wasson, although evidence from other sources was lacking.[107] There is also one account of a Euro-American who claims to have been initiated into traditional Tlicho use of Amanita muscaria.[108] The flying reindeer of Santa Claus, who is called Joulupukki in Finland, could symbolize the use of A. muscaria by Sámi shamans.[109][110][111] However, Sámi scholars and the Sámi peoples themselves refute any connection between Santa Claus and Sámi history or culture[112].\n",
            "\"The story of Santa emerging from a Sámi shamanic tradition has a critical number of flaws,\" asserts Tim Frandy, assistant professor of Nordic Studies at the University of British Columbia and a member of the Sámi descendent community in North America. \"The theory has been widely criticized by Sámi people as a stereotypical and problematic romanticized misreading of actual Sámi culture.\"[112]\n",
            "The notion that Vikings used A. muscaria to produce their berserker rages was first suggested by the Swedish professor Samuel Ödmann in 1784.[113] Ödmann based his theories on reports about the use of fly agaric among Siberian shamans. The notion has become widespread since the 19th century, but no contemporary sources mention this use or anything similar in their description of berserkers. Muscimol is generally a mild relaxant, but it can create a range of different reactions within a group of people.[114] It is possible that it could make a person angry, or cause them to be \"very jolly or sad, jump about, dance, sing or give way to great fright\".[114] Comparative analysis of symptoms have, however, since shown Hyoscyamus niger to be a better fit to the state that characterises the berserker rage.[115]\n",
            "In 1968, R. Gordon Wasson proposed that A. muscaria was the soma talked about in the Rigveda of India,[116] a claim which received widespread publicity and popular support at the time.[117] He noted that descriptions of Soma omitted any description of roots, stems or seeds, which suggested a mushroom,[118] and used the adjective hári \"dazzling\" or \"flaming\" which the author interprets as meaning red.[119] One line described men urinating Soma; this recalled the practice of recycling urine in Siberia. Soma is mentioned as coming \"from the mountains\", which Wasson interpreted as the mushroom having been brought in with the Aryan migrants from the north.[120] Indian scholars Santosh Kumar Dash and Sachinanda Padhy pointed out that both eating of mushrooms and drinking of urine were proscribed, using as a source the Manusmṛti.[121]\n",
            "In 1971, Vedic scholar John Brough from Cambridge University rejected Wasson's theory and noted that the language was too vague to determine a description of Soma.[122] In his 1976 survey, Hallucinogens and Culture, anthropologist Peter T. Furst evaluated the evidence for and against the identification of the fly agaric mushroom as the Vedic Soma, concluding cautiously in its favour.[123] Kevin Feeney and Trent Austin compared the references in the Vedas with the filtering mechanisms in the preparation of Amanita muscaria and published findings supporting the proposal that fly-agaric mushrooms could be a likely candidate for the sacrament.[111] Other proposed candidates include Psilocybe cubensis, Peganum harmala,[124] and Ephedra.\n",
            "Philologist, archaeologist, and Dead Sea Scrolls scholar John Marco Allegro postulated that early Christian theology was derived from a fertility cult revolving around the entheogenic consumption of A. muscaria in his 1970 book The Sacred Mushroom and the Cross.[125] This theory has found little support by scholars outside the field of ethnomycology. The book was widely criticized by academics and theologians, including Sir Godfrey Driver, emeritus Professor of Semitic Philology at Oxford University and Henry Chadwick, the Dean of Christ Church, Oxford.[126] Christian author John C. King wrote a detailed rebuttal of Allegro's theory in the 1970 book A Christian View of the Mushroom Myth; he notes that neither fly agarics nor their host trees are found in the Middle East, even though cedars and pines are found there, and highlights the tenuous nature of the links between biblical and Sumerian names coined by Allegro. He concludes that if the theory were true, the use of the mushroom must have been \"the best kept secret in the world\" as it was so well concealed for two thousand years.[127][128]\n",
            "Amanita muscaria is traditionally used for catching flies possibly due to its content of ibotenic acid and muscimol, which lead to its common name \"fly agaric\". Recently, an analysis of nine different methods for preparing A. muscaria for catching flies in Slovenia have shown that the release of ibotenic acid and muscimol did not depend on the solvent (milk or water) and that thermal and mechanical processing led to faster extraction of ibotenic acid and muscimol.[129]\n",
            "The toxins in A. muscaria are water-soluble: parboiling A. muscaria fruit bodies can detoxify them and render them edible,[68] although consumption of the mushroom as a food has never been widespread.[130] The consumption of detoxified A. muscaria has been practiced in some parts of Europe (notably by Russian settlers in Siberia) since at least the 19th century, and likely earlier. The German physician and naturalist Georg Heinrich von Langsdorff wrote the earliest published account on how to detoxify this mushroom in 1823. In the late 19th century, the French physician Félix Archimède Pouchet was a populariser and advocate of A. muscaria consumption, comparing it to manioc, an important food source in tropical South America that must also be detoxified before consumption.[68]\n",
            "Use of this mushroom as a food source also seems to have existed in North America. A classic description of this use of A. muscaria by an African-American mushroom seller in Washington, D.C., in the late 19th century is described by American botanist Frederick Vernon Coville. In this case, the mushroom, after parboiling, and soaking in vinegar, is made into a mushroom sauce for steak.[131] It is also consumed as a food in parts of Japan. The most well-known current use as an edible mushroom is in Nagano Prefecture, Japan. There, it is primarily salted and pickled.[132]\n",
            "A 2008 paper by food historian William Rubel and mycologist David Arora gives a history of consumption of A. muscaria as a food and describes detoxification methods. They advocate that Amanita muscaria be described in field guides as an edible mushroom, though accompanied by a description on how to detoxify it. The authors state that the widespread descriptions in field guides of this mushroom as poisonous is a reflection of cultural bias, as several other popular edible species, notably morels, are also toxic unless properly cooked.[68]\n",
            "The red-and-white spotted toadstool is a common image in many aspects of popular culture.[29] Garden ornaments and children's picture books depicting gnomes and fairies, such as the Smurfs, often show fly agarics used as seats, or homes.[29][134] Fly agarics have been featured in paintings since the Renaissance,[135] albeit in a subtle manner. For instance, in Hieronymus Bosch's painting, The Garden of Earthly Delights, the mushroom can be seen on the left-hand panel of the work.[136] In the Victorian era they became more visible, becoming the main topic of some fairy paintings.[137] Two of the most famous uses of the mushroom are in the Mario franchise (specifically two of the Super Mushroom power-up items and the platforms in several stages which are based on a fly agaric),[138][139] and the dancing mushroom sequence in the 1940 Disney film Fantasia.[140]\n",
            "An account of the journeys of Philip von Strahlenberg to Siberia and his descriptions of the use of the mukhomor there was published in English in 1736. The drinking of urine of those who had consumed the mushroom was commented on by Anglo-Irish writer Oliver Goldsmith in his widely read 1762 novel, Citizen of the World.[141] The mushroom had been identified as the fly agaric by this time.[142] Other authors recorded the distortions of the size of perceived objects while intoxicated by the fungus, including naturalist Mordecai Cubitt Cooke in his books The Seven Sisters of Sleep and A Plain and Easy Account of British Fungi.[143] This observation is thought to have formed the basis of the effects of eating the mushroom in the 1865 popular story Alice's Adventures in Wonderland.[144] A hallucinogenic \"scarlet toadstool\" from Lappland is featured as a plot element in Charles Kingsley's 1866 novel Hereward the Wake based on the medieval figure of the same name.[145] Thomas Pynchon's 1973 novel Gravity's Rainbow describes the fungus as a \"relative of the poisonous Destroying angel\" and presents a detailed description of a character preparing a cookie bake mixture from harvested Amanita muscaria.[146] Fly agaric shamanism is also explored in the 2003 novel Thursbitch by Alan Garner.[147]\n",
            "\n",
            "\n"
          ]
        }
      ]
    },
    {
      "cell_type": "markdown",
      "source": [],
      "metadata": {
        "id": "pvTIyHr-5BFn"
      }
    },
    {
      "cell_type": "code",
      "source": [
        "# prompt: parse and save each part of the\n",
        "\n",
        "import requests\n",
        "from bs4 import BeautifulSoup\n",
        "from IPython.display import Image, display, HTML\n",
        "# # Wikipedia Species Information Extractor\n",
        "#     Created by: Kevin Mastascusa\n",
        "#     Description: A tool to scrape information and images from Wikipedia pages.\n",
        "#     Date: 2024-09-06\n",
        "\n",
        "# Specify the Wikipedia URL\n",
        "url = \"https://en.wikipedia.org/wiki/Amanita_muscaria\"\n",
        "\n",
        "# Fetch the HTML content\n",
        "response = requests.get(url)\n",
        "response.raise_for_status()\n",
        "\n",
        "# Parse the HTML\n",
        "soup = BeautifulSoup(response.content, 'html.parser')\n",
        "\n",
        "# Extract the title\n",
        "title = soup.find('h1', id='firstHeading').text.strip()\n",
        "\n",
        "# Find all paragraphs within the main content area\n",
        "paragraphs = soup.find('div', id='bodyContent').find_all('p')\n",
        "\n",
        "# Get the first paragraph that contains text\n",
        "for p in paragraphs:\n",
        "    first_paragraph = p.text.strip()\n",
        "    if first_paragraph:  # Check if the paragraph has any text content\n",
        "        break\n",
        "\n",
        "print(f\"Title: {title}\")\n",
        "print(f\"First Paragraph: {first_paragraph}\")\n",
        "!pip install requests beautifulsoup4\n",
        "\n",
        "def get_wikipedia_info(species_name):\n",
        "  \"\"\"Fetches information and image from a Wikipedia page.\"\"\"\n",
        "\n",
        "  url = f\"https://en.wikipedia.org/wiki/{species_name.replace(' ', '_')}\"\n",
        "\n",
        "  response = requests.get(url)\n",
        "  response.raise_for_status()\n",
        "\n",
        "  soup = BeautifulSoup(response.content, 'html.parser')\n",
        "\n",
        "  # Extract title\n",
        "  title = soup.find('h1', id='firstHeading').text.strip()\n",
        "\n",
        "  # Extract first paragraph\n",
        "  paragraphs = soup.find('div', id='bodyContent').find_all('p')\n",
        "  for p in paragraphs:\n",
        "      first_paragraph = p.text.strip()\n",
        "      if first_paragraph:\n",
        "          break\n",
        "\n",
        "  # Extract image (assuming the first image in the infobox is relevant)\n",
        "  infobox = soup.find('table', class_='infobox')\n",
        "  if infobox:\n",
        "      image_tag = infobox.find('img')\n",
        "      if image_tag:\n",
        "          image_url = \"https:\" + image_tag['src']  # Construct full URL\n",
        "      else:\n",
        "          image_url = None\n",
        "  else:\n",
        "      image_url = None\n",
        "\n",
        "  return title, first_paragraph, image_url\n",
        "\n",
        "# Get user input for species name\n",
        "species_name = input(\"Enter the species name: \")\n",
        "\n",
        "# Fetch information\n",
        "title, first_paragraph, image_url = get_wikipedia_info(species_name)\n",
        "\n",
        "# Display results\n",
        "print(f\"\\nTitle: {title}\")\n",
        "print(f\"\\nFirst Paragraph: {first_paragraph}\\n\")\n",
        "\n",
        "if image_url:\n",
        "    display(Image(url=image_url))\n",
        "else:\n",
        "    print(\"No image found.\")\n",
        "\n",
        "\n",
        "# Find all other paragraphs\n",
        "other_paragraphs = soup.find('div', id='bodyContent').find_all('p')\n",
        "\n",
        "# Extract the text from all other paragraphs\n",
        "other_text = \"\"\n",
        "for p in other_paragraphs:\n",
        "    if p.text.strip() != first_paragraph:\n",
        "        other_text += p.text.strip() + \"\\n\"\n",
        "\n",
        "# Save the other text to a file\n",
        "with open(\"other_text.txt\", \"w\") as f:\n",
        "    f.write(other_text)\n",
        "\n",
        "\n",
        "\n",
        "# Read the content of the file\n",
        "with open(\"other_text.txt\", \"r\") as f:\n",
        "    other_text = f.read()\n",
        "\n",
        "# Parse the text as HTML\n",
        "soup = BeautifulSoup(other_text, 'html.parser')\n",
        "\n",
        "# Extract the text from the parsed HTML\n",
        "readable_text = soup.get_text()\n",
        "\n",
        "# Print the readable text\n",
        "print(readable_text)\n",
        "\n",
        "# Save the title to a file\n",
        "with open(\"title.txt\", \"w\") as f:\n",
        "    f.write(title)\n",
        "\n",
        "# Save the first paragraph to a file\n",
        "with open(\"first_paragraph.txt\", \"w\") as f:\n",
        "    f.write(first_paragraph)\n",
        "\n",
        "# Save the other text to a file\n",
        "with open(\"other_text.txt\", \"w\") as f:\n",
        "    f.write(other_text)\n"
      ],
      "metadata": {
        "id": "dUhHy5h35Ba3",
        "outputId": "e7504ef5-df61-4976-937c-5ff0b64858ae",
        "colab": {
          "base_uri": "https://localhost:8080/",
          "height": 1000
        }
      },
      "execution_count": 17,
      "outputs": [
        {
          "output_type": "stream",
          "name": "stdout",
          "text": [
            "Title: Amanita muscaria\n",
            "First Paragraph: Amanita muscaria, commonly known as the fly agaric or fly amanita,[5] is a basidiomycete of the genus Amanita. It is a large white-gilled, white-spotted, and usually red mushroom.\n",
            "Requirement already satisfied: requests in /usr/local/lib/python3.10/dist-packages (2.32.3)\n",
            "Requirement already satisfied: beautifulsoup4 in /usr/local/lib/python3.10/dist-packages (4.12.3)\n",
            "Requirement already satisfied: charset-normalizer<4,>=2 in /usr/local/lib/python3.10/dist-packages (from requests) (3.3.2)\n",
            "Requirement already satisfied: idna<4,>=2.5 in /usr/local/lib/python3.10/dist-packages (from requests) (3.8)\n",
            "Requirement already satisfied: urllib3<3,>=1.21.1 in /usr/local/lib/python3.10/dist-packages (from requests) (2.0.7)\n",
            "Requirement already satisfied: certifi>=2017.4.17 in /usr/local/lib/python3.10/dist-packages (from requests) (2024.8.30)\n",
            "Requirement already satisfied: soupsieve>1.2 in /usr/local/lib/python3.10/dist-packages (from beautifulsoup4) (2.6)\n",
            "Enter the species name: amanita_muscaria\n",
            "\n",
            "Title: Amanita muscaria\n",
            "\n",
            "First Paragraph: Amanita muscaria, commonly known as the fly agaric or fly amanita,[5] is a basidiomycete of the genus Amanita. It is a large white-gilled, white-spotted, and usually red mushroom.\n",
            "\n"
          ]
        },
        {
          "output_type": "display_data",
          "data": {
            "text/html": [
              "<img src=\"https://upload.wikimedia.org/wikipedia/commons/thumb/3/32/Amanita_muscaria_3_vliegenzwammen_op_rij.jpg/220px-Amanita_muscaria_3_vliegenzwammen_op_rij.jpg\"/>"
            ],
            "text/plain": [
              "<IPython.core.display.Image object>"
            ]
          },
          "metadata": {}
        },
        {
          "output_type": "stream",
          "name": "stdout",
          "text": [
            "\n",
            "Despite its easily distinguishable features, A. muscaria is a fungus with several known variations, or subspecies. These subspecies are slightly different, some having yellow or white caps, but are all usually called fly agarics, most often recognizable by their notable white spots. Recent DNA fungi research, however, has shown that some mushrooms called 'fly agaric' are in fact unique species, such as A. persicina (the peach-colored fly agaric).\n",
            "Native throughout the temperate and boreal regions of the Northern Hemisphere, A. muscaria has been unintentionally introduced to many countries in the Southern Hemisphere, generally as a symbiont with pine and birch plantations, and is now a true cosmopolitan species. It associates with various deciduous and coniferous trees.\n",
            "Although poisonous, death due to poisoning from A. muscaria ingestion is quite rare. Parboiling twice with water weakens its toxicity and breaks down the mushroom's psychoactive substances; it is eaten in parts of Europe, Asia, and North America. All A. muscaria varieties, but in particular A. muscaria var. muscaria, are noted for their hallucinogenic properties, with the main psychoactive constituents being muscimol and its neurotoxic precursor ibotenic acid. A local variety of the mushroom was used as an intoxicant and entheogen by the indigenous peoples of Siberia.[6][7]\n",
            "Arguably the most iconic toadstool species, the fly agaric is one of the most recognizable and widely encountered in popular culture, including in video games—for example, the frequent use of a recognizable A. muscaria in the Mario franchise (e.g. its Super Mushroom power-up)—and television—for example, the houses in The Smurfs franchise.[8] There have been cases of children admitted to hospitals after consuming this poisonous mushroom; the children may have been attracted to it because of its pop-culture associations.[9]\n",
            "The name of the mushroom in many European languages is thought to derive from its use as an insecticide when sprinkled in milk. This practice has been recorded from Germanic-  and Slavic-speaking parts of Europe, as well as the Vosges region and pockets elsewhere in France, and Romania.[10] Albertus Magnus was the first to record it in his work De vegetabilibus some time before 1256,[11] commenting \"vocatur fungus muscarum, eo quod in lacte pulverizatus interficit muscas\" (\"it is called the fly mushroom because it is powdered in milk to kill flies\").[12]\n",
            "The 16th-century Flemish botanist Carolus Clusius traced the practice of sprinkling it into milk to Frankfurt in Germany,[13] while Carl Linnaeus, the \"father of taxonomy\", reported it from Småland in southern Sweden, where he had lived as a child.[14] He described it in volume two of his Species Plantarum in 1753, giving it the name Agaricus muscarius,[15] the specific epithet deriving from Latin musca meaning \"fly\".[16] It gained its current name in 1783, when placed in the genus Amanita by Jean-Baptiste Lamarck, a name sanctioned in 1821 by the \"father of mycology\", Swedish naturalist Elias Magnus Fries. The starting date for all the mycota had been set by general agreement as January 1, 1821, the date of Fries's work, and so the full name was then Amanita muscaria (L.:Fr.) Hook. The 1987 edition of the International Code of Botanical Nomenclature changed the rules on the starting date and primary work for names of fungi, and names can now be considered valid as far back as May 1, 1753, the date of publication of Linnaeus's work.[17] Hence, Linnaeus and Lamarck are now taken as the namers of Amanita muscaria (L.) Lam..\n",
            "The English mycologist John Ramsbottom reported that Amanita muscaria was used for getting rid of bugs in England and Sweden, and bug agaric was an old alternative name for the species.[12] French mycologist Pierre Bulliard reported having tried without success to replicate its fly-killing properties in his work Histoire des plantes vénéneuses et suspectes de la France (1784), and proposed a new binomial name Agaricus pseudo-aurantiacus because of this.[18] One compound isolated from the fungus is 1,3-diolein (1,3-di(cis-9-octadecenoyl)glycerol), which attracts insects.[19]\n",
            "It has been hypothesised that the flies intentionally seek out the fly agaric for its intoxicating properties.[20]\n",
            "An alternative derivation proposes that the term fly- refers not to insects as such but rather the delirium resulting from consumption of the fungus. This is based on the medieval belief that flies could enter a person's head and cause mental illness.[21] Several regional names appear to be linked with this connotation, meaning the \"mad\" or \"fool's\" version of the highly regarded edible mushroom Amanita caesarea. Hence there is oriol foll \"mad oriol\" in Catalan, mujolo folo from Toulouse, concourlo fouolo from the Aveyron department in Southern France, ovolo matto from Trentino in Italy. A local dialect name in Fribourg in Switzerland is tsapi de diablhou, which translates as \"Devil's hat\".[22]\n",
            "Amanita muscaria is the type species of the genus. By extension, it is also the type species of Amanita subgenus Amanita, as well as section Amanita within this subgenus. Amanita subgenus Amanita includes all Amanita with inamyloid spores. Amanita section Amanita includes the species with patchy universal veil remnants, including a volva that is reduced to a series of concentric rings, and the veil remnants on the cap to a series of patches or warts. Most species in this group also have a bulbous base.[23][24] Amanita section Amanita consists of A. muscaria and its close relatives, including A. pantherina (the panther cap), A. gemmata, A. farinosa, and A. xanthocephala.[25] Modern fungal taxonomists have classified Amanita muscaria and its allies this way based on gross morphology and spore inamyloidy. Two recent molecular phylogenetic studies have confirmed this classification as natural.[26][27]\n",
            "A large, conspicuous mushroom, Amanita muscaria is generally common and numerous where it grows, and is often found in groups with basidiocarps in all stages of development.\n",
            "Fly agaric fruiting bodies emerge from the soil looking like white eggs. After emerging from the ground, the cap is covered with numerous small white to yellow pyramid-shaped warts. These are remnants of the universal veil, a membrane that encloses the entire mushroom when it is still very young. Dissecting the mushroom at this stage reveals a characteristic yellowish layer of skin under the veil, which helps identification. As the fungus grows, the red colour appears through the broken veil and the warts become less prominent; they do not change in size, but are reduced relative to the expanding skin area. The cap changes from globose to hemispherical, and finally to plate-like and flat in mature specimens.[28] Fully grown, the bright red cap is usually around 8–20 centimetres (3–8 inches) in diameter, although larger specimens have been found. The red colour may fade after rain and in older mushrooms.\n",
            "The free gills are white, as is the spore print. The oval spores measure 9–13 by 6.5–9 μm; they do not turn blue with the application of iodine.[29] The stipe is white, 5–20 cm (2–8 in) high[30] by 1–2 cm (1⁄2–1 in) wide, and has the slightly brittle, fibrous texture typical of many large mushrooms. At the base is a bulb that bears universal veil remnants in the form of two to four distinct rings or ruffs. Between the basal universal veil remnants and gills are remnants of the partial veil (which covers the gills during development) in the form of a white ring. It can be quite wide and flaccid with age. There is generally no associated smell other than a mild earthiness.[31][32]\n",
            "Although very distinctive in appearance, the fly agaric has been mistaken for other yellow to red mushroom species in the Americas, such as Armillaria cf. mellea and the edible A. basii—a Mexican species similar to A. caesarea of Europe. Poison control centres in the U.S. and Canada have become aware that amarill (Spanish for 'yellow') is a common name for the A. caesarea-like species in Mexico.[4] A. caesarea is distinguished by its entirely orange to red cap, which lacks the numerous white warty spots of the fly agaric (though these sometimes wash away during heavy rain).[33] Furthermore, the stem, gills and ring of A. caesarea are bright yellow, not white.[34] The volva is a distinct white bag, not broken into scales.[35] In Australia, the introduced fly agaric may be confused with the native vermilion grisette (Amanita xanthocephala), which grows in association with eucalypts. The latter species generally lacks the white warts of A. muscaria and bears no ring.[36] Additionally, immature button forms resemble puffballs.[37]\n",
            "Amanita muscaria varies considerably in its morphology, and many authorities recognize several subspecies or varieties within the species. In The Agaricales in Modern Taxonomy, German mycologist Rolf Singer listed three subspecies, though without description: A. muscaria ssp. muscaria, A. muscaria ssp. americana, and A. muscaria ssp. flavivolvata.[23]\n",
            "However, a 2006 molecular phylogenetic study of different regional populations of A. muscaria by mycologist József Geml and colleagues found three distinct clades within this species representing, roughly, Eurasian, Eurasian \"subalpine\", and North American populations. Specimens belonging to all three clades have been found in Alaska; this has led to the hypothesis that this was the centre of diversification for this species. The study also looked at four named varieties of the species: var. alba, var. flavivolvata, var. formosa (including var. guessowii), and var. regalis from both areas. All four varieties were found within both the Eurasian and North American clades, evidence that these morphological forms are polymorphisms rather than distinct subspecies or varieties.[38] Further molecular study by Geml and colleagues published in 2008 show that these three genetic groups, plus a fourth associated with oak–hickory–pine forest in the southeastern United States and two more on Santa Cruz Island in California, are delineated from each other enough genetically to be considered separate species. Thus A. muscaria as it stands currently is, evidently, a species complex.[39] The complex also includes at least three other closely related taxa that are currently regarded as species:[1] A. breckonii is a buff-capped mushroom associated with conifers from the Pacific Northwest,[40] and the brown-capped A. gioiosa and A. heterochroma from the Mediterranean Basin and from Sardinia respectively. Both of these last two are found with Eucalyptus and Cistus trees, and it is unclear whether they are native or introduced from Australia.[41][42]\n",
            "Amanitaceae.org lists four varieties as of May 2019[update], but says that they will be segregated into their own taxa \"in the near future\". They are:[2]\n",
            "Known to be toxic but used by shamans in northern cultures. Associated predominantly with Birch and diverse conifers in forest.\n",
            "A. muscaria is a cosmopolitan mushroom, native to conifer and deciduous woodlands throughout the temperate and boreal regions of the Northern Hemisphere,[38] including higher elevations of warmer latitudes in regions such as Hindu Kush, the Mediterranean and also Central America. A recent molecular study proposes that it had an ancestral origin in the Siberian–Beringian region in the Tertiary period, before radiating outwards across Asia, Europe and North America.[38] The season for fruiting varies in different climates: fruiting occurs in summer and autumn across most of North America, but later in autumn and early winter on the Pacific coast. This species is often found in similar locations to Boletus edulis, and may appear in fairy rings.[44] Conveyed with pine seedlings, it has been widely transported into the southern hemisphere, including Australia,[45] New Zealand,[46] South Africa[47] and South America, where it can be found in the Brazilian states of Paraná,[38] São Paulo, Minas Gerais, Rio Grande do Sul.[48]\n",
            "Ectomycorrhizal, A. muscaria forms symbiotic relationships with many trees, including pine, oak, spruce, fir, birch, and cedar. Commonly seen under introduced trees,[49] A. muscaria is the fungal equivalent of a weed in New Zealand, Tasmania and Victoria, forming new associations with southern beech (Nothofagus).[50] The species is also invading a rainforest in Australia, where it may be displacing the native species.[49] It appears to be spreading northwards, with recent reports placing it near Port Macquarie on the New South Wales north coast.[51] It was recorded under silver birch (Betula pendula) in Manjimup, Western Australia in 2010.[52] Although it has apparently not spread to eucalypts in Australia, it has been recorded associating with them in Portugal. Commonly found throughout the great Southern region of western Australia, it is regularly found growing on Pinus radiata.[53]\n",
            "A. muscaria poisoning has occurred in young children and in people who ingested the mushrooms for a hallucinogenic experience,[21][54][55] or who confused it with an edible species.\n",
            "A. muscaria contains several biologically active agents, at least one of which, muscimol, is known to be psychoactive. Ibotenic acid, a neurotoxin, serves as a prodrug to muscimol, with a small amount likely converting to muscimol after ingestion. An active dose in adults is approximately 6 mg muscimol or 30 to 60 mg ibotenic acid;[56][57] this is typically about the amount found in one cap of Amanita muscaria.[58] The amount and ratio of chemical compounds per mushroom varies widely from region to region and season to season, which can further confuse the issue. Spring and summer mushrooms have been reported to contain up to 10 times more ibotenic acid and muscimol than autumn fruitings.[54]\n",
            "Deaths from A. muscaria have been reported in historical journal articles and newspaper reports,[59][60][61] but with modern medical treatment, fatal poisoning from ingesting this mushroom is extremely rare.[62] Many books list A. muscaria as deadly,[63] but according to David Arora, this is an error that implies the mushroom is far more toxic than it is.[64] Furthermore, The North American Mycological Association has stated that there were \"no reliably documented cases of death from toxins in these mushrooms in the past 100 years\".[65]\n",
            "The active constituents of this species are water-soluble, and boiling and then discarding the cooking water at least partly detoxifies A. muscaria.[66] Drying may increase potency, as the process facilitates the conversion of ibotenic acid to the more potent muscimol.[67] According to some sources, once detoxified, the mushroom becomes edible.[68][69] Patrick Harding describes the Sami custom of processing the fly agaric through reindeer.[70]\n",
            "Muscarine, discovered in 1869,[71] was long thought to be the active hallucinogenic agent in A. muscaria. Muscarine binds with muscarinic acetylcholine receptors leading to the excitation of neurons bearing these receptors. The levels of muscarine in Amanita muscaria are minute when compared with other poisonous fungi[72] such as Inosperma erubescens, the small white Clitocybe species C. dealbata and C. rivulosa. The level of muscarine in A. muscaria is too low to play a role in the symptoms of poisoning.[73]\n",
            "The major toxins involved in A. muscaria poisoning are muscimol (3-hydroxy-5-aminomethyl-1-isoxazole, an unsaturated cyclic hydroxamic acid) and the related amino acid ibotenic acid. Muscimol is the product of the decarboxylation (usually by drying) of ibotenic acid. Muscimol and ibotenic acid were discovered in the mid-20th century.[74][75] Researchers in England,[76] Japan,[77] and Switzerland[75] showed that the effects produced were due mainly to ibotenic acid and muscimol, not muscarine.[19][74] These toxins are not distributed uniformly in the mushroom. Most are detected in the cap of the fruit, a moderate amount in the base, with the smallest amount in the stalk.[78][79] Quite rapidly, between 20 and 90 minutes after ingestion, a substantial fraction of ibotenic acid is excreted unmetabolised in the urine of the consumer. Almost no muscimol is excreted when pure ibotenic acid is eaten, but muscimol is detectable in the urine after eating A. muscaria, which contains both ibotenic acid and muscimol.[57]\n",
            "Ibotenic acid and muscimol are structurally related to each other and to two major neurotransmitters of the central nervous system: glutamic acid and GABA respectively. Ibotenic acid and muscimol act like these neurotransmitters, muscimol being a potent GABAA agonist, while ibotenic acid is an agonist of NMDA glutamate receptors and certain metabotropic glutamate receptors[80] which are involved in the control of neuronal activity. It is these interactions which are thought to cause the psychoactive effects found in intoxication.[21][58]\n",
            "Muscazone is another compound that has more recently been isolated from European specimens of the fly agaric. It is a product of the breakdown of ibotenic acid by ultra-violet radiation.[81] Muscazone is of minor pharmacological activity compared with the other agents.[21] Amanita muscaria and related species are known as effective bioaccumulators of vanadium; some species concentrate vanadium to levels of up to 400 times those typically found in plants.[82] Vanadium is present in fruit-bodies as an organometallic compound called amavadine.[82] The biological importance of the accumulation process is unknown.[83]\n",
            "Fly agarics are best known for the unpredictability of their effects. Depending on habitat and the amount ingested per body weight, effects can range from mild nausea and twitching to drowsiness, cholinergic crisis-like effects (low blood pressure, sweating and salivation), auditory and visual distortions, mood changes, euphoria, relaxation, ataxia, and loss of equilibrium (like with tetanus.)[54][55][58][60]\n",
            "In cases of serious poisoning the mushroom causes delirium, somewhat similar in effect to anticholinergic poisoning (such as that caused by Datura stramonium), characterised by bouts of marked agitation with confusion, hallucinations, and irritability followed by periods of central nervous system depression. Seizures and coma may also occur in severe poisonings.[55][58] Symptoms typically appear after around 30 to 90 minutes and peak within three hours, but certain effects can last for several days.[33][57] In the majority of cases recovery is complete within 12 to 24 hours.[66] The effect is highly variable between individuals, with similar doses potentially causing quite different reactions.[54][57][84] Some people suffering intoxication have exhibited headaches up to ten hours afterwards.[57] Retrograde amnesia and somnolence can result following recovery.[58]\n",
            "Medical attention should be sought in cases of suspected poisoning. If the delay between ingestion and treatment is less than four hours, activated charcoal is given. Gastric lavage can be considered if the patient presents within one hour of ingestion.[85] Inducing vomiting with syrup of ipecac is no longer recommended in any poisoning situation.[86]\n",
            "There is no antidote, and supportive care is the mainstay of further treatment for intoxication. Though sometimes referred to as a deliriant and while muscarine was first isolated from A. muscaria and as such is its namesake, muscimol does not have action, either as an agonist or antagonist, at the muscarinic acetylcholine receptor site, and therefore atropine or physostigmine as an antidote is not recommended.[87] If a patient is delirious or agitated, this can usually be treated by reassurance and, if necessary, physical restraints. A benzodiazepine such as diazepam or lorazepam can be used to control combativeness, agitation, muscular overactivity, and seizures.[54] Only small doses should be used, as they may worsen the respiratory depressant effects of muscimol.[88] Recurrent vomiting is rare, but if present may lead to fluid and electrolyte imbalances; intravenous rehydration or electrolyte replacement may be required.[58][89] Serious cases may develop loss of consciousness or coma, and may need intubation and artificial ventilation.[55][90] Hemodialysis can remove the toxins, although this intervention is generally considered unnecessary.[66] With modern medical treatment the prognosis is typically good following supportive treatment.[62][66]\n",
            "The wide range of psychoactive effects have been variously described as depressant, sedative-hypnotic, psychedelic, dissociative, or deliriant; paradoxical effects such as stimulation may occur however. Perceptual phenomena such as synesthesia, macropsia, and micropsia may occur; the latter two effects may occur either simultaneously or alternatingly, as part of Alice in Wonderland syndrome, collectively known as dysmetropsia, along with related distortions pelopsia and teleopsia. Some users report lucid dreaming under the influence of its hypnotic effects. Unlike Psilocybe cubensis, A. muscaria cannot be commercially cultivated, due to its mycorrhizal relationship with the roots of pine trees. However, following the outlawing of psilocybin mushrooms in the United Kingdom in 2006, the sale of the still legal A. muscaria began increasing.[91]\n",
            "Marija Gimbutas reported to R. Gordon Wasson that in remote areas of Lithuania, A. muscaria has been consumed at wedding feasts, in which mushrooms were mixed with vodka. She also reported that the Lithuanians used to export A. muscaria to the Sami in the Far North for use in shamanic rituals. The Lithuanian festivities are the only report that Wasson received of ingestion of fly agaric for religious use in Eastern Europe.[92]\n",
            "A. muscaria was widely used as an entheogen by many of the indigenous peoples of Siberia. Its use was known among almost all of the Uralic-speaking peoples of western Siberia and the Paleosiberian-speaking peoples of the Russian Far East. There are only isolated reports of A. muscaria use among the Tungusic and Turkic peoples of central Siberia and it is believed that on the whole entheogenic use of A. muscaria was not practised by these peoples.[6] In western Siberia, the use of A. muscaria was restricted to shamans, who used it as an alternative method of achieving a trance state. (Normally, Siberian shamans achieve trance by prolonged drumming and dancing.) In eastern Siberia, A. muscaria was used by both shamans and laypeople alike, and was used recreationally as well as religiously.[6] In eastern Siberia, the shaman would take the mushrooms, and others would drink his urine.[93] This urine, still containing psychoactive elements, may be more potent than the A. muscaria mushrooms with fewer negative effects such as sweating and twitching, suggesting that the initial user may act as a screening filter for other components in the mushroom.[94]\n",
            "The Koryak of eastern Siberia have a story about the fly agaric (wapaq) which enabled Big Raven to carry a whale to its home. In the story, the deity Vahiyinin (\"Existence\") spat onto earth, and his spittle became the wapaq, and his saliva becomes the warts. After experiencing the power of the wapaq, Raven was so exhilarated that he told it to grow forever on earth so his children, the people, could learn from it.[95] Among the Koryaks, one report said that the poor would consume the urine of the wealthy, who could afford to buy the mushrooms.[96] It was reported that the local reindeer would often follow an individual intoxicated by the muscimol mushroom, and if said individual were to urinate in snow the reindeer would become similarly intoxicated and the Koryak people's would use the drunken state of the reindeer to more easily rope and hunt them.[97]\n",
            "As a result of a lack of regulation, the use of Amanita muscaria as a popular legal alternative to hallucinogens has grown exponentially in recent years. In 2024, Google searches for Amanita muscaria rose nearly 200% from the previous year, a trend that an article published in the American Journal of Preventative Medicine correlated with the sudden commercialization of Amanita muscaria products on the internet.[98]\n",
            "While Amanita mushrooms are unscheduled in the United States, the sale of Amanita products exists in a legal gray area as they are listed as a poison by the FDA[99] and are not approved to be used in dietary supplements, with some drawing comparisons to the controversial legal status of hemp-derived cannabinoids.[98][100]\n",
            "A recent outbreak of poisonings and at least one death associated with products containing Amanita muscaria extracts has sparked debates regarding the regulatory status of Amanita mushrooms and their psychoactive constituents.[98][101] These products often use misleading advertising, such as erroneous comparisons to Psilocybin mushrooms or simply not disclosing the inclusion of Amanita mushrooms on the packaging.[101][102]\n",
            "The Finnish historian T. I. Itkonen mentions that A. muscaria was once used among the Sámi peoples. Sorcerers in Inari would consume fly agarics with seven spots.[103] In 1979, Said Gholam Mochtar and Hartmut Geerken published an article in which they claimed to have discovered a tradition of medicinal and recreational use of this mushroom among a Parachi-speaking group in Afghanistan.[104] There are also unconfirmed reports of religious use of A. muscaria among two Subarctic Native American tribes. Ojibwa ethnobotanist Keewaydinoquay Peschel reported its use among her people, where it was known as miskwedo (an abbreviation of the name oshtimisk wajashkwedo (= \"red-top mushroom\").[105][106] This information was enthusiastically received by Wasson, although evidence from other sources was lacking.[107] There is also one account of a Euro-American who claims to have been initiated into traditional Tlicho use of Amanita muscaria.[108] The flying reindeer of Santa Claus, who is called Joulupukki in Finland, could symbolize the use of A. muscaria by Sámi shamans.[109][110][111] However, Sámi scholars and the Sámi peoples themselves refute any connection between Santa Claus and Sámi history or culture[112].\n",
            "\"The story of Santa emerging from a Sámi shamanic tradition has a critical number of flaws,\" asserts Tim Frandy, assistant professor of Nordic Studies at the University of British Columbia and a member of the Sámi descendent community in North America. \"The theory has been widely criticized by Sámi people as a stereotypical and problematic romanticized misreading of actual Sámi culture.\"[112]\n",
            "The notion that Vikings used A. muscaria to produce their berserker rages was first suggested by the Swedish professor Samuel Ödmann in 1784.[113] Ödmann based his theories on reports about the use of fly agaric among Siberian shamans. The notion has become widespread since the 19th century, but no contemporary sources mention this use or anything similar in their description of berserkers. Muscimol is generally a mild relaxant, but it can create a range of different reactions within a group of people.[114] It is possible that it could make a person angry, or cause them to be \"very jolly or sad, jump about, dance, sing or give way to great fright\".[114] Comparative analysis of symptoms have, however, since shown Hyoscyamus niger to be a better fit to the state that characterises the berserker rage.[115]\n",
            "In 1968, R. Gordon Wasson proposed that A. muscaria was the soma talked about in the Rigveda of India,[116] a claim which received widespread publicity and popular support at the time.[117] He noted that descriptions of Soma omitted any description of roots, stems or seeds, which suggested a mushroom,[118] and used the adjective hári \"dazzling\" or \"flaming\" which the author interprets as meaning red.[119] One line described men urinating Soma; this recalled the practice of recycling urine in Siberia. Soma is mentioned as coming \"from the mountains\", which Wasson interpreted as the mushroom having been brought in with the Aryan migrants from the north.[120] Indian scholars Santosh Kumar Dash and Sachinanda Padhy pointed out that both eating of mushrooms and drinking of urine were proscribed, using as a source the Manusmṛti.[121]\n",
            "In 1971, Vedic scholar John Brough from Cambridge University rejected Wasson's theory and noted that the language was too vague to determine a description of Soma.[122] In his 1976 survey, Hallucinogens and Culture, anthropologist Peter T. Furst evaluated the evidence for and against the identification of the fly agaric mushroom as the Vedic Soma, concluding cautiously in its favour.[123] Kevin Feeney and Trent Austin compared the references in the Vedas with the filtering mechanisms in the preparation of Amanita muscaria and published findings supporting the proposal that fly-agaric mushrooms could be a likely candidate for the sacrament.[111] Other proposed candidates include Psilocybe cubensis, Peganum harmala,[124] and Ephedra.\n",
            "Philologist, archaeologist, and Dead Sea Scrolls scholar John Marco Allegro postulated that early Christian theology was derived from a fertility cult revolving around the entheogenic consumption of A. muscaria in his 1970 book The Sacred Mushroom and the Cross.[125] This theory has found little support by scholars outside the field of ethnomycology. The book was widely criticized by academics and theologians, including Sir Godfrey Driver, emeritus Professor of Semitic Philology at Oxford University and Henry Chadwick, the Dean of Christ Church, Oxford.[126] Christian author John C. King wrote a detailed rebuttal of Allegro's theory in the 1970 book A Christian View of the Mushroom Myth; he notes that neither fly agarics nor their host trees are found in the Middle East, even though cedars and pines are found there, and highlights the tenuous nature of the links between biblical and Sumerian names coined by Allegro. He concludes that if the theory were true, the use of the mushroom must have been \"the best kept secret in the world\" as it was so well concealed for two thousand years.[127][128]\n",
            "Amanita muscaria is traditionally used for catching flies possibly due to its content of ibotenic acid and muscimol, which lead to its common name \"fly agaric\". Recently, an analysis of nine different methods for preparing A. muscaria for catching flies in Slovenia have shown that the release of ibotenic acid and muscimol did not depend on the solvent (milk or water) and that thermal and mechanical processing led to faster extraction of ibotenic acid and muscimol.[129]\n",
            "The toxins in A. muscaria are water-soluble: parboiling A. muscaria fruit bodies can detoxify them and render them edible,[68] although consumption of the mushroom as a food has never been widespread.[130] The consumption of detoxified A. muscaria has been practiced in some parts of Europe (notably by Russian settlers in Siberia) since at least the 19th century, and likely earlier. The German physician and naturalist Georg Heinrich von Langsdorff wrote the earliest published account on how to detoxify this mushroom in 1823. In the late 19th century, the French physician Félix Archimède Pouchet was a populariser and advocate of A. muscaria consumption, comparing it to manioc, an important food source in tropical South America that must also be detoxified before consumption.[68]\n",
            "Use of this mushroom as a food source also seems to have existed in North America. A classic description of this use of A. muscaria by an African-American mushroom seller in Washington, D.C., in the late 19th century is described by American botanist Frederick Vernon Coville. In this case, the mushroom, after parboiling, and soaking in vinegar, is made into a mushroom sauce for steak.[131] It is also consumed as a food in parts of Japan. The most well-known current use as an edible mushroom is in Nagano Prefecture, Japan. There, it is primarily salted and pickled.[132]\n",
            "A 2008 paper by food historian William Rubel and mycologist David Arora gives a history of consumption of A. muscaria as a food and describes detoxification methods. They advocate that Amanita muscaria be described in field guides as an edible mushroom, though accompanied by a description on how to detoxify it. The authors state that the widespread descriptions in field guides of this mushroom as poisonous is a reflection of cultural bias, as several other popular edible species, notably morels, are also toxic unless properly cooked.[68]\n",
            "The red-and-white spotted toadstool is a common image in many aspects of popular culture.[29] Garden ornaments and children's picture books depicting gnomes and fairies, such as the Smurfs, often show fly agarics used as seats, or homes.[29][134] Fly agarics have been featured in paintings since the Renaissance,[135] albeit in a subtle manner. For instance, in Hieronymus Bosch's painting, The Garden of Earthly Delights, the mushroom can be seen on the left-hand panel of the work.[136] In the Victorian era they became more visible, becoming the main topic of some fairy paintings.[137] Two of the most famous uses of the mushroom are in the Mario franchise (specifically two of the Super Mushroom power-up items and the platforms in several stages which are based on a fly agaric),[138][139] and the dancing mushroom sequence in the 1940 Disney film Fantasia.[140]\n",
            "An account of the journeys of Philip von Strahlenberg to Siberia and his descriptions of the use of the mukhomor there was published in English in 1736. The drinking of urine of those who had consumed the mushroom was commented on by Anglo-Irish writer Oliver Goldsmith in his widely read 1762 novel, Citizen of the World.[141] The mushroom had been identified as the fly agaric by this time.[142] Other authors recorded the distortions of the size of perceived objects while intoxicated by the fungus, including naturalist Mordecai Cubitt Cooke in his books The Seven Sisters of Sleep and A Plain and Easy Account of British Fungi.[143] This observation is thought to have formed the basis of the effects of eating the mushroom in the 1865 popular story Alice's Adventures in Wonderland.[144] A hallucinogenic \"scarlet toadstool\" from Lappland is featured as a plot element in Charles Kingsley's 1866 novel Hereward the Wake based on the medieval figure of the same name.[145] Thomas Pynchon's 1973 novel Gravity's Rainbow describes the fungus as a \"relative of the poisonous Destroying angel\" and presents a detailed description of a character preparing a cookie bake mixture from harvested Amanita muscaria.[146] Fly agaric shamanism is also explored in the 2003 novel Thursbitch by Alan Garner.[147]\n",
            "\n",
            "\n"
          ]
        }
      ]
    },
    {
      "cell_type": "code",
      "source": [],
      "metadata": {
        "id": "8jPZA3Uq5EZQ"
      },
      "execution_count": null,
      "outputs": []
    },
    {
      "cell_type": "code",
      "source": [
        "# PARSE AND SAVE EACH PART OF HTML TAG\n"
      ],
      "metadata": {
        "id": "GuUnSOuy4fNQ"
      },
      "execution_count": null,
      "outputs": []
    }
  ]
}